{
 "cells": [
  {
   "cell_type": "code",
   "execution_count": 1,
   "metadata": {},
   "outputs": [],
   "source": [
    "import pandas as pd\n",
    "from scipy import stats\n",
    "import scipy.stats as sts\n",
    "from scipy.stats import kstest, ks_2samp, shapiro, ttest_1samp, ttest_ind, ttest_ind_from_stats, levene\n",
    "from statsmodels.stats.diagnostic import lilliefors\n",
    "import numpy as np\n",
    "from numpy.random import seed, lognormal, randn, poisson\n",
    "import matplotlib.pyplot as plt\n",
    "import statsmodels.api as sm\n"
   ]
  },
  {
   "cell_type": "code",
   "execution_count": 2,
   "metadata": {},
   "outputs": [],
   "source": [
    "# Создадим датафрейм с данными о росте, весе и скоре игроков\n",
    "df = pd.DataFrame({'player_number': [10, 8, 12, 22, 36, 7, 1, 20, 9, 4, 14],\n",
    " 'height': [168, 176, 178, 191, 185, 183, 185, 179, 169, 183, 167],\n",
    " 'weight': [76, 77, 79, 81, 82, 79, 74, 84, 73, 71, 68],\n",
    " 'score': [95, 86, 94, 96, 95, 95, 89, 83, 99, 78, 82]})"
   ]
  },
  {
   "cell_type": "code",
   "execution_count": 3,
   "metadata": {},
   "outputs": [
    {
     "data": {
      "text/html": [
       "<div>\n",
       "<style scoped>\n",
       "    .dataframe tbody tr th:only-of-type {\n",
       "        vertical-align: middle;\n",
       "    }\n",
       "\n",
       "    .dataframe tbody tr th {\n",
       "        vertical-align: top;\n",
       "    }\n",
       "\n",
       "    .dataframe thead th {\n",
       "        text-align: right;\n",
       "    }\n",
       "</style>\n",
       "<table border=\"1\" class=\"dataframe\">\n",
       "  <thead>\n",
       "    <tr style=\"text-align: right;\">\n",
       "      <th></th>\n",
       "      <th>player_number</th>\n",
       "      <th>height</th>\n",
       "      <th>weight</th>\n",
       "      <th>score</th>\n",
       "    </tr>\n",
       "  </thead>\n",
       "  <tbody>\n",
       "    <tr>\n",
       "      <th>0</th>\n",
       "      <td>10</td>\n",
       "      <td>168</td>\n",
       "      <td>76</td>\n",
       "      <td>95</td>\n",
       "    </tr>\n",
       "    <tr>\n",
       "      <th>1</th>\n",
       "      <td>8</td>\n",
       "      <td>176</td>\n",
       "      <td>77</td>\n",
       "      <td>86</td>\n",
       "    </tr>\n",
       "    <tr>\n",
       "      <th>2</th>\n",
       "      <td>12</td>\n",
       "      <td>178</td>\n",
       "      <td>79</td>\n",
       "      <td>94</td>\n",
       "    </tr>\n",
       "    <tr>\n",
       "      <th>3</th>\n",
       "      <td>22</td>\n",
       "      <td>191</td>\n",
       "      <td>81</td>\n",
       "      <td>96</td>\n",
       "    </tr>\n",
       "    <tr>\n",
       "      <th>4</th>\n",
       "      <td>36</td>\n",
       "      <td>185</td>\n",
       "      <td>82</td>\n",
       "      <td>95</td>\n",
       "    </tr>\n",
       "    <tr>\n",
       "      <th>5</th>\n",
       "      <td>7</td>\n",
       "      <td>183</td>\n",
       "      <td>79</td>\n",
       "      <td>95</td>\n",
       "    </tr>\n",
       "    <tr>\n",
       "      <th>6</th>\n",
       "      <td>1</td>\n",
       "      <td>185</td>\n",
       "      <td>74</td>\n",
       "      <td>89</td>\n",
       "    </tr>\n",
       "    <tr>\n",
       "      <th>7</th>\n",
       "      <td>20</td>\n",
       "      <td>179</td>\n",
       "      <td>84</td>\n",
       "      <td>83</td>\n",
       "    </tr>\n",
       "    <tr>\n",
       "      <th>8</th>\n",
       "      <td>9</td>\n",
       "      <td>169</td>\n",
       "      <td>73</td>\n",
       "      <td>99</td>\n",
       "    </tr>\n",
       "    <tr>\n",
       "      <th>9</th>\n",
       "      <td>4</td>\n",
       "      <td>183</td>\n",
       "      <td>71</td>\n",
       "      <td>78</td>\n",
       "    </tr>\n",
       "    <tr>\n",
       "      <th>10</th>\n",
       "      <td>14</td>\n",
       "      <td>167</td>\n",
       "      <td>68</td>\n",
       "      <td>82</td>\n",
       "    </tr>\n",
       "  </tbody>\n",
       "</table>\n",
       "</div>"
      ],
      "text/plain": [
       "    player_number  height  weight  score\n",
       "0              10     168      76     95\n",
       "1               8     176      77     86\n",
       "2              12     178      79     94\n",
       "3              22     191      81     96\n",
       "4              36     185      82     95\n",
       "5               7     183      79     95\n",
       "6               1     185      74     89\n",
       "7              20     179      84     83\n",
       "8               9     169      73     99\n",
       "9               4     183      71     78\n",
       "10             14     167      68     82"
      ]
     },
     "execution_count": 3,
     "metadata": {},
     "output_type": "execute_result"
    }
   ],
   "source": [
    "df"
   ]
  },
  {
   "cell_type": "code",
   "execution_count": 4,
   "metadata": {},
   "outputs": [
    {
     "data": {
      "text/plain": [
       "178.54545454545453"
      ]
     },
     "execution_count": 4,
     "metadata": {},
     "output_type": "execute_result"
    }
   ],
   "source": [
    "df['height'].mean()"
   ]
  },
  {
   "cell_type": "code",
   "execution_count": 5,
   "metadata": {},
   "outputs": [
    {
     "data": {
      "text/plain": [
       "179.0"
      ]
     },
     "execution_count": 5,
     "metadata": {},
     "output_type": "execute_result"
    }
   ],
   "source": [
    "df['height'].median()"
   ]
  },
  {
   "cell_type": "code",
   "execution_count": 6,
   "metadata": {},
   "outputs": [
    {
     "data": {
      "text/plain": [
       "0    183\n",
       "1    185\n",
       "Name: height, dtype: int64"
      ]
     },
     "execution_count": 6,
     "metadata": {},
     "output_type": "execute_result"
    }
   ],
   "source": [
    "df['height'].mode()"
   ]
  },
  {
   "cell_type": "code",
   "execution_count": 7,
   "metadata": {},
   "outputs": [
    {
     "data": {
      "text/plain": [
       "player_number     13.000000\n",
       "height           178.545455\n",
       "weight            76.727273\n",
       "score             90.181818\n",
       "dtype: float64"
      ]
     },
     "execution_count": 7,
     "metadata": {},
     "output_type": "execute_result"
    }
   ],
   "source": [
    "df.mean()"
   ]
  },
  {
   "cell_type": "code",
   "execution_count": 8,
   "metadata": {},
   "outputs": [
    {
     "data": {
      "text/plain": [
       "player_number     10.0\n",
       "height           179.0\n",
       "weight            77.0\n",
       "score             94.0\n",
       "dtype: float64"
      ]
     },
     "execution_count": 8,
     "metadata": {},
     "output_type": "execute_result"
    }
   ],
   "source": [
    "df.median()"
   ]
  },
  {
   "cell_type": "code",
   "execution_count": 9,
   "metadata": {},
   "outputs": [
    {
     "data": {
      "text/html": [
       "<div>\n",
       "<style scoped>\n",
       "    .dataframe tbody tr th:only-of-type {\n",
       "        vertical-align: middle;\n",
       "    }\n",
       "\n",
       "    .dataframe tbody tr th {\n",
       "        vertical-align: top;\n",
       "    }\n",
       "\n",
       "    .dataframe thead th {\n",
       "        text-align: right;\n",
       "    }\n",
       "</style>\n",
       "<table border=\"1\" class=\"dataframe\">\n",
       "  <thead>\n",
       "    <tr style=\"text-align: right;\">\n",
       "      <th></th>\n",
       "      <th>player_number</th>\n",
       "      <th>height</th>\n",
       "      <th>weight</th>\n",
       "      <th>score</th>\n",
       "    </tr>\n",
       "  </thead>\n",
       "  <tbody>\n",
       "    <tr>\n",
       "      <th>0</th>\n",
       "      <td>1</td>\n",
       "      <td>183.0</td>\n",
       "      <td>79.0</td>\n",
       "      <td>95.0</td>\n",
       "    </tr>\n",
       "    <tr>\n",
       "      <th>1</th>\n",
       "      <td>4</td>\n",
       "      <td>185.0</td>\n",
       "      <td>NaN</td>\n",
       "      <td>NaN</td>\n",
       "    </tr>\n",
       "    <tr>\n",
       "      <th>2</th>\n",
       "      <td>7</td>\n",
       "      <td>NaN</td>\n",
       "      <td>NaN</td>\n",
       "      <td>NaN</td>\n",
       "    </tr>\n",
       "    <tr>\n",
       "      <th>3</th>\n",
       "      <td>8</td>\n",
       "      <td>NaN</td>\n",
       "      <td>NaN</td>\n",
       "      <td>NaN</td>\n",
       "    </tr>\n",
       "    <tr>\n",
       "      <th>4</th>\n",
       "      <td>9</td>\n",
       "      <td>NaN</td>\n",
       "      <td>NaN</td>\n",
       "      <td>NaN</td>\n",
       "    </tr>\n",
       "    <tr>\n",
       "      <th>5</th>\n",
       "      <td>10</td>\n",
       "      <td>NaN</td>\n",
       "      <td>NaN</td>\n",
       "      <td>NaN</td>\n",
       "    </tr>\n",
       "    <tr>\n",
       "      <th>6</th>\n",
       "      <td>12</td>\n",
       "      <td>NaN</td>\n",
       "      <td>NaN</td>\n",
       "      <td>NaN</td>\n",
       "    </tr>\n",
       "    <tr>\n",
       "      <th>7</th>\n",
       "      <td>14</td>\n",
       "      <td>NaN</td>\n",
       "      <td>NaN</td>\n",
       "      <td>NaN</td>\n",
       "    </tr>\n",
       "    <tr>\n",
       "      <th>8</th>\n",
       "      <td>20</td>\n",
       "      <td>NaN</td>\n",
       "      <td>NaN</td>\n",
       "      <td>NaN</td>\n",
       "    </tr>\n",
       "    <tr>\n",
       "      <th>9</th>\n",
       "      <td>22</td>\n",
       "      <td>NaN</td>\n",
       "      <td>NaN</td>\n",
       "      <td>NaN</td>\n",
       "    </tr>\n",
       "    <tr>\n",
       "      <th>10</th>\n",
       "      <td>36</td>\n",
       "      <td>NaN</td>\n",
       "      <td>NaN</td>\n",
       "      <td>NaN</td>\n",
       "    </tr>\n",
       "  </tbody>\n",
       "</table>\n",
       "</div>"
      ],
      "text/plain": [
       "    player_number  height  weight  score\n",
       "0               1   183.0    79.0   95.0\n",
       "1               4   185.0     NaN    NaN\n",
       "2               7     NaN     NaN    NaN\n",
       "3               8     NaN     NaN    NaN\n",
       "4               9     NaN     NaN    NaN\n",
       "5              10     NaN     NaN    NaN\n",
       "6              12     NaN     NaN    NaN\n",
       "7              14     NaN     NaN    NaN\n",
       "8              20     NaN     NaN    NaN\n",
       "9              22     NaN     NaN    NaN\n",
       "10             36     NaN     NaN    NaN"
      ]
     },
     "execution_count": 9,
     "metadata": {},
     "output_type": "execute_result"
    }
   ],
   "source": [
    "df.mode()"
   ]
  },
  {
   "cell_type": "code",
   "execution_count": 10,
   "metadata": {},
   "outputs": [
    {
     "data": {
      "text/plain": [
       "178.54545454545453"
      ]
     },
     "execution_count": 10,
     "metadata": {},
     "output_type": "execute_result"
    }
   ],
   "source": [
    "np.mean(df['height'])"
   ]
  },
  {
   "cell_type": "code",
   "execution_count": 11,
   "metadata": {},
   "outputs": [
    {
     "data": {
      "text/plain": [
       "179.0"
      ]
     },
     "execution_count": 11,
     "metadata": {},
     "output_type": "execute_result"
    }
   ],
   "source": [
    "np.median(df['height'])"
   ]
  },
  {
   "cell_type": "code",
   "execution_count": 12,
   "metadata": {},
   "outputs": [
    {
     "data": {
      "text/plain": [
       "ModeResult(mode=183, count=2)"
      ]
     },
     "execution_count": 12,
     "metadata": {},
     "output_type": "execute_result"
    }
   ],
   "source": [
    "stats.mode(df['height'])"
   ]
  },
  {
   "cell_type": "code",
   "execution_count": 13,
   "metadata": {},
   "outputs": [],
   "source": [
    "df = pd.DataFrame({'Company': ['Occidental Petroleum',\n",
    "'Exxon Mobil Corporation', 'Chevron Corporation',\n",
    "'Ovintiv Inc.', 'Murphy Oil',\n",
    "'Apache Corp', 'Continental Resources',\n",
    "'PDC Energy', 'Phillips 99', 'Devon Energy Corp',\n",
    "'Canadian Natural Resources', 'Cenovus Energy', 'Enbridge', 'Husky Energy',\n",
    "'Imperial Oil', 'Irving Oil', 'Pembina Pipeline', 'Suncor Energy'],\n",
    " 'ROE': [7.35, 4.33, 3.37, 8.3, 3.97, 9.88, 9.52, 7.48, 4.76, 8.95, 9.10, 4.21,\n",
    "6.12, 7.91, 8.49, 8.72, 6.52, 4.75]})"
   ]
  },
  {
   "cell_type": "code",
   "execution_count": 14,
   "metadata": {},
   "outputs": [],
   "source": [
    "Var = df['ROE'].var(ddof=1)\n",
    "sd = df['ROE'].std()\n"
   ]
  },
  {
   "cell_type": "code",
   "execution_count": 15,
   "metadata": {},
   "outputs": [
    {
     "data": {
      "text/plain": [
       "4.645660457516339"
      ]
     },
     "execution_count": 15,
     "metadata": {},
     "output_type": "execute_result"
    }
   ],
   "source": [
    "Var"
   ]
  },
  {
   "cell_type": "code",
   "execution_count": 16,
   "metadata": {},
   "outputs": [
    {
     "data": {
      "text/plain": [
       "2.1553794230984806"
      ]
     },
     "execution_count": 16,
     "metadata": {},
     "output_type": "execute_result"
    }
   ],
   "source": [
    "sd"
   ]
  },
  {
   "cell_type": "code",
   "execution_count": 17,
   "metadata": {},
   "outputs": [],
   "source": [
    "NIM = pd.Series([7.6, 7.9, 8.3, 7.2, 6.9, 7.9, 7.4, 7.8, 5.9, 7.1, 6.8])\n",
    "rate = pd.Series([10, 12, 12, 8, 8, 7.5, 7.5, 7.5, 6.5, 7, 7])"
   ]
  },
  {
   "cell_type": "code",
   "execution_count": 18,
   "metadata": {},
   "outputs": [
    {
     "data": {
      "text/plain": [
       "PearsonRResult(statistic=0.6821733938700639, pvalue=0.02075029601666806)"
      ]
     },
     "execution_count": 18,
     "metadata": {},
     "output_type": "execute_result"
    }
   ],
   "source": [
    "corr = stats.pearsonr(NIM, rate)\n",
    "corr"
   ]
  },
  {
   "cell_type": "code",
   "execution_count": 19,
   "metadata": {},
   "outputs": [
    {
     "data": {
      "text/plain": [
       "0.6821733938700639"
      ]
     },
     "execution_count": 19,
     "metadata": {},
     "output_type": "execute_result"
    }
   ],
   "source": [
    "corr.statistic"
   ]
  },
  {
   "cell_type": "code",
   "execution_count": 20,
   "metadata": {},
   "outputs": [],
   "source": [
    "df = pd.DataFrame({'NIM': [7.6, 7.9, 8.3, 7.2, 6.9, 7.9, 7.4, 7.8, 5.9, 7.1, 6.8],\n",
    " 'rate': [10, 12, 12, 8, 8, 7.5, 7.5, 7.5, 6.5, 7, 7],\n",
    " 'GDP_growth': [2.5, 1.8, 3.1, 1.9, 2.4, 2.8, 1.0, 3.2, 2.1, 2.2, 0.5]})\n"
   ]
  },
  {
   "cell_type": "code",
   "execution_count": 21,
   "metadata": {},
   "outputs": [
    {
     "data": {
      "text/html": [
       "<div>\n",
       "<style scoped>\n",
       "    .dataframe tbody tr th:only-of-type {\n",
       "        vertical-align: middle;\n",
       "    }\n",
       "\n",
       "    .dataframe tbody tr th {\n",
       "        vertical-align: top;\n",
       "    }\n",
       "\n",
       "    .dataframe thead th {\n",
       "        text-align: right;\n",
       "    }\n",
       "</style>\n",
       "<table border=\"1\" class=\"dataframe\">\n",
       "  <thead>\n",
       "    <tr style=\"text-align: right;\">\n",
       "      <th></th>\n",
       "      <th>NIM</th>\n",
       "      <th>rate</th>\n",
       "      <th>GDP_growth</th>\n",
       "    </tr>\n",
       "  </thead>\n",
       "  <tbody>\n",
       "    <tr>\n",
       "      <th>NIM</th>\n",
       "      <td>1.000</td>\n",
       "      <td>0.682</td>\n",
       "      <td>0.445</td>\n",
       "    </tr>\n",
       "    <tr>\n",
       "      <th>rate</th>\n",
       "      <td>0.682</td>\n",
       "      <td>1.000</td>\n",
       "      <td>0.281</td>\n",
       "    </tr>\n",
       "    <tr>\n",
       "      <th>GDP_growth</th>\n",
       "      <td>0.445</td>\n",
       "      <td>0.281</td>\n",
       "      <td>1.000</td>\n",
       "    </tr>\n",
       "  </tbody>\n",
       "</table>\n",
       "</div>"
      ],
      "text/plain": [
       "              NIM   rate  GDP_growth\n",
       "NIM         1.000  0.682       0.445\n",
       "rate        0.682  1.000       0.281\n",
       "GDP_growth  0.445  0.281       1.000"
      ]
     },
     "execution_count": 21,
     "metadata": {},
     "output_type": "execute_result"
    }
   ],
   "source": [
    "corr_matrix = df.corr().round(3)\n",
    "corr_matrix"
   ]
  },
  {
   "cell_type": "code",
   "execution_count": 22,
   "metadata": {},
   "outputs": [],
   "source": [
    "df = pd.DataFrame({'ROE': [7.4, 7.8, 5.9, 7.1, 6.8, 7.6, 7.9, 8.3, 7.2, 6.9, 7.9],\n",
    " 'COF': [6.3, 4.2, 6.2, 8.1, 8.4, 7.5, 6.5, 7.8, 6.9, 7.1, 7.2],\n",
    " 'rating': ['AAA', 'BB+', 'BB+', 'AAA', 'BBB-', 'AA', 'AAA', 'AAA', 'BBB-', 'AAA', 'BB+']})\n",
    "\n",
    "# список квартилей\n",
    "Q = [0.25, 0.5, 0.75]"
   ]
  },
  {
   "cell_type": "code",
   "execution_count": 23,
   "metadata": {},
   "outputs": [
    {
     "data": {
      "text/plain": [
       "0.25    7.00\n",
       "0.50    7.40\n",
       "0.75    7.85\n",
       "Name: ROE, dtype: float64"
      ]
     },
     "execution_count": 23,
     "metadata": {},
     "output_type": "execute_result"
    }
   ],
   "source": [
    "df['ROE'].quantile(Q)"
   ]
  },
  {
   "cell_type": "code",
   "execution_count": 24,
   "metadata": {},
   "outputs": [
    {
     "data": {
      "text/html": [
       "<div>\n",
       "<style scoped>\n",
       "    .dataframe tbody tr th:only-of-type {\n",
       "        vertical-align: middle;\n",
       "    }\n",
       "\n",
       "    .dataframe tbody tr th {\n",
       "        vertical-align: top;\n",
       "    }\n",
       "\n",
       "    .dataframe thead th {\n",
       "        text-align: right;\n",
       "    }\n",
       "</style>\n",
       "<table border=\"1\" class=\"dataframe\">\n",
       "  <thead>\n",
       "    <tr style=\"text-align: right;\">\n",
       "      <th></th>\n",
       "      <th>ROE</th>\n",
       "      <th>COF</th>\n",
       "    </tr>\n",
       "    <tr>\n",
       "      <th>rating</th>\n",
       "      <th></th>\n",
       "      <th></th>\n",
       "    </tr>\n",
       "  </thead>\n",
       "  <tbody>\n",
       "    <tr>\n",
       "      <th>AA</th>\n",
       "      <td>7.60</td>\n",
       "      <td>7.500</td>\n",
       "    </tr>\n",
       "    <tr>\n",
       "      <th>AAA</th>\n",
       "      <td>7.10</td>\n",
       "      <td>6.500</td>\n",
       "    </tr>\n",
       "    <tr>\n",
       "      <th>BB+</th>\n",
       "      <td>6.85</td>\n",
       "      <td>5.200</td>\n",
       "    </tr>\n",
       "    <tr>\n",
       "      <th>BBB-</th>\n",
       "      <td>6.90</td>\n",
       "      <td>7.275</td>\n",
       "    </tr>\n",
       "  </tbody>\n",
       "</table>\n",
       "</div>"
      ],
      "text/plain": [
       "         ROE    COF\n",
       "rating             \n",
       "AA      7.60  7.500\n",
       "AAA     7.10  6.500\n",
       "BB+     6.85  5.200\n",
       "BBB-    6.90  7.275"
      ]
     },
     "execution_count": 24,
     "metadata": {},
     "output_type": "execute_result"
    }
   ],
   "source": [
    "df.groupby('rating').agg(lambda x: x.quantile(0.25))"
   ]
  },
  {
   "cell_type": "code",
   "execution_count": 25,
   "metadata": {},
   "outputs": [
    {
     "data": {
      "text/plain": [
       "6.5"
      ]
     },
     "execution_count": 25,
     "metadata": {},
     "output_type": "execute_result"
    }
   ],
   "source": [
    "df[df.rating == 'AAA']['COF'].quantile(0.25)"
   ]
  },
  {
   "cell_type": "code",
   "execution_count": 26,
   "metadata": {},
   "outputs": [
    {
     "data": {
      "text/plain": [
       "7.1"
      ]
     },
     "execution_count": 26,
     "metadata": {},
     "output_type": "execute_result"
    }
   ],
   "source": [
    "quantile = [0.25, 0.5]\n",
    "max(df[df.rating == 'AAA']['COF'].quantile(quantile))"
   ]
  },
  {
   "cell_type": "code",
   "execution_count": 27,
   "metadata": {},
   "outputs": [
    {
     "data": {
      "text/html": [
       "<div>\n",
       "<style scoped>\n",
       "    .dataframe tbody tr th:only-of-type {\n",
       "        vertical-align: middle;\n",
       "    }\n",
       "\n",
       "    .dataframe tbody tr th {\n",
       "        vertical-align: top;\n",
       "    }\n",
       "\n",
       "    .dataframe thead th {\n",
       "        text-align: right;\n",
       "    }\n",
       "</style>\n",
       "<table border=\"1\" class=\"dataframe\">\n",
       "  <thead>\n",
       "    <tr style=\"text-align: right;\">\n",
       "      <th></th>\n",
       "      <th>COF</th>\n",
       "    </tr>\n",
       "    <tr>\n",
       "      <th>rating</th>\n",
       "      <th></th>\n",
       "    </tr>\n",
       "  </thead>\n",
       "  <tbody>\n",
       "    <tr>\n",
       "      <th>AA</th>\n",
       "      <td>7.500</td>\n",
       "    </tr>\n",
       "    <tr>\n",
       "      <th>AAA</th>\n",
       "      <td>7.184</td>\n",
       "    </tr>\n",
       "    <tr>\n",
       "      <th>BB+</th>\n",
       "      <td>6.260</td>\n",
       "    </tr>\n",
       "    <tr>\n",
       "      <th>BBB-</th>\n",
       "      <td>7.695</td>\n",
       "    </tr>\n",
       "  </tbody>\n",
       "</table>\n",
       "</div>"
      ],
      "text/plain": [
       "          COF\n",
       "rating       \n",
       "AA      7.500\n",
       "AAA     7.184\n",
       "BB+     6.260\n",
       "BBB-    7.695"
      ]
     },
     "execution_count": 27,
     "metadata": {},
     "output_type": "execute_result"
    }
   ],
   "source": [
    "df.groupby('rating').agg({'COF': lambda x: round(x.quantile(0.53), 3)})"
   ]
  },
  {
   "cell_type": "code",
   "execution_count": 28,
   "metadata": {},
   "outputs": [
    {
     "data": {
      "text/plain": [
       "7.13"
      ]
     },
     "execution_count": 28,
     "metadata": {},
     "output_type": "execute_result"
    }
   ],
   "source": [
    "df['COF'].quantile(0.53)"
   ]
  },
  {
   "cell_type": "code",
   "execution_count": 29,
   "metadata": {},
   "outputs": [
    {
     "name": "stderr",
     "output_type": "stream",
     "text": [
      "/var/folders/9r/8ct5hzls1f13fzpnb590x1s40000gn/T/ipykernel_889/794173607.py:1: MatplotlibDeprecationWarning: The 'labels' parameter of boxplot() has been renamed 'tick_labels' since Matplotlib 3.9; support for the old name will be dropped in 3.11.\n",
      "  bx = plt.boxplot([df['COF'], df['ROE']],\n"
     ]
    },
    {
     "data": {
      "image/png": "[encoded data removed]",
      "text/plain": [
       "<Figure size 640x480 with 1 Axes>"
      ]
     },
     "metadata": {},
     "output_type": "display_data"
    }
   ],
   "source": [
    "bx = plt.boxplot([df['COF'], df['ROE']], \n",
    "                 vert=True,\n",
    "                 patch_artist=False,\n",
    "                 showmeans=True,\n",
    "                 labels=['COF', 'ROE'])\n",
    "\n",
    "plt.show()"
   ]
  },
  {
   "cell_type": "code",
   "execution_count": 30,
   "metadata": {},
   "outputs": [
    {
     "data": {
      "image/png": "[encoded data removed]",
      "text/plain": [
       "<Figure size 640x480 with 2 Axes>"
      ]
     },
     "metadata": {},
     "output_type": "display_data"
    }
   ],
   "source": [
    "df.boxplot(column=['COF', 'ROE'], by='rating', grid=False)\n",
    "plt.show()"
   ]
  },
  {
   "cell_type": "markdown",
   "metadata": {},
   "source": [
    "**Нормальное распределение** - это непрерывное, симметричное и унимодальное распределение, функция плотности вероятности которого задаётся на основе двух параметров (среднего генеральной совокупности μ и стандартного отклонения генеральной совокупности σ):\n",
    "\n",
    "Свойства нормального распределения:\n",
    "\n",
    "1. Симметричное\n",
    "\n",
    "2. Унимодальное \n",
    "\n",
    "3. Удовлетворяет правилу трёх сигм, согласно которому в интервале +- 1 сигма (σ) от среднего значения находится 68,27% всех значений распределения, в интервале +- 2 сигмы (σ) - 95,45%, а в интервале +-3 сигмы (σ) - уже 99,73%:\n",
    "\n",
    "4. Сумма (разность) величин, распределенных нормально, дают величину, также распределенную нормально:\n",
    "\n",
    "Нормальное распределение - очень распространенный вид распределений на практике благодаря действию центральной предельной теоремы.\n",
    "\n",
    "**Центральная предельная теорема** (central limit theorem, CLT) говорит о том, что распределение средних значений выборок, состоящих из достаточно большого количества одинаково распределенных случайных величин, будет приближаться к нормальному распределению. Иначе говоря, вне зависимости от того, как изначально распределена наша случайная величина, если мы будем многократно извлекать выборки достаточно большого размера и строить распределение выборочных средних, то окажется, что оно будет стремиться к нормальному."
   ]
  },
  {
   "cell_type": "code",
   "execution_count": 31,
   "metadata": {},
   "outputs": [],
   "source": [
    "data = stats.norm(0, 3)\n",
    "x = np.linspace(-10, 10, 1000)"
   ]
  },
  {
   "cell_type": "markdown",
   "metadata": {},
   "source": [
    "1. PDF (Probability Density Function - функция плотности вероятности):\n",
    "\n",
    "Что показывает: Для непрерывной переменной, такой как рост, PDF показывает относительную вероятность того, что рост студента окажется вблизи определенного значения. Важно понимать, что PDF не дает вероятность того, что рост будет точно равен какому-то конкретному значению (для непрерывных переменных эта вероятность всегда равна нулю). Вместо этого, PDF показывает, насколько плотнее сконцентрированы значения роста вокруг данной точки. Там, где кривая PDF выше, значения роста встречаются чаще.\n",
    "\n",
    "Когда применяется: PDF используется для визуализации распределения непрерывной случайной величины. Например, PDF для роста студентов может показать, что большинство студентов имеют рост около 175 см, и чем дальше от 175 см, тем меньше студентов с таким ростом.\n",
    "\n",
    "Пример: pdf(175) показывает относительную вероятность того, что рост студента будет около 175 см."
   ]
  },
  {
   "cell_type": "code",
   "execution_count": 32,
   "metadata": {},
   "outputs": [
    {
     "data": {
      "image/png": "[encoded data removed]",
      "text/plain": [
       "<Figure size 640x480 with 1 Axes>"
      ]
     },
     "metadata": {},
     "output_type": "display_data"
    }
   ],
   "source": [
    "PDF = data.pdf(x)\n",
    "plt.plot(x, PDF)\n",
    "plt.show()"
   ]
  },
  {
   "cell_type": "markdown",
   "metadata": {},
   "source": [
    "2. CDF (Cumulative Distribution Function - функция распределения):\n",
    "\n",
    "Что показывает: CDF показывает вероятность того, что рост студента будет меньше или равен определенному значению.\n",
    "\n",
    "Когда применяется: CDF используется для вычисления вероятности попадания случайной величины в определенный интервал.\n",
    "\n",
    "Пример: cdf(180) показывает вероятность того, что рост студента будет меньше или равен 180 см. Если мы хотим узнать вероятность того, что рост студента будет между 170 и 180 см, мы можем вычислить cdf(180) - cdf(170)."
   ]
  },
  {
   "cell_type": "code",
   "execution_count": 33,
   "metadata": {},
   "outputs": [
    {
     "data": {
      "image/png": "[encoded data removed]",
      "text/plain": [
       "<Figure size 640x480 with 1 Axes>"
      ]
     },
     "metadata": {},
     "output_type": "display_data"
    }
   ],
   "source": [
    "CDF = data.cdf(x)\n",
    "plt.plot(x, CDF)\n",
    "plt.show()"
   ]
  },
  {
   "cell_type": "markdown",
   "metadata": {},
   "source": [
    "3. SF (Survival Function - функция выживания):\n",
    "\n",
    "Что показывает: SF показывает вероятность того, что рост студента будет больше определенного значения.\n",
    "\n",
    "Когда применяется: SF часто используется в анализе надежности и выживаемости.\n",
    "\n",
    "Пример: sf(190) показывает вероятность того, что рост студента будет больше 190 см."
   ]
  },
  {
   "cell_type": "code",
   "execution_count": 34,
   "metadata": {},
   "outputs": [
    {
     "data": {
      "image/png": "[encoded data removed]",
      "text/plain": [
       "<Figure size 640x480 with 1 Axes>"
      ]
     },
     "metadata": {},
     "output_type": "display_data"
    }
   ],
   "source": [
    "SF = data.sf(x)\n",
    "plt.plot(x, SF)\n",
    "plt.show()"
   ]
  },
  {
   "cell_type": "markdown",
   "metadata": {},
   "source": [
    "4. PPF (Percent Point Function, Quantile function - функция квантилей):\n",
    "\n",
    "Что показывает: PPF — это обратная функция к CDF. Она отвечает на вопрос: \"Какой рост нужно взять, чтобы вероятность того, что рост студента будет меньше или равен этому значению, была равна заданному числу?\"\n",
    "\n",
    "Когда применяется: PPF используется для нахождения квантилей распределения. Например, медиана (50-й процентиль) — это значение, которое делит распределение пополам.\n",
    "\n",
    "Пример: ppf(0.5) возвращает медиану роста студентов. ppf(0.95) возвращает 95-й процентиль – значение роста, такое, что 95% студентов имеют рост меньше или равен этому значению."
   ]
  },
  {
   "cell_type": "code",
   "execution_count": 35,
   "metadata": {},
   "outputs": [
    {
     "data": {
      "image/png": "[encoded data removed]",
      "text/plain": [
       "<Figure size 640x480 with 1 Axes>"
      ]
     },
     "metadata": {},
     "output_type": "display_data"
    }
   ],
   "source": [
    "PPF = data.ppf(x)\n",
    "plt.plot(x, PPF)\n",
    "plt.show()"
   ]
  },
  {
   "cell_type": "markdown",
   "metadata": {},
   "source": [
    "5. ISF (Inverse Survival Function - обратная функция выживания):\n",
    "\n",
    "Что показывает: ISF – это обратная функция к SF. Она отвечает на вопрос: \"Какой рост нужно взять, чтобы вероятность того, что рост студента будет больше этого значения, была равна заданному числу?\"\n",
    "\n",
    "Пример: isf(0.1) возвращает значение роста, такое что только 10% студентов имеют рост больше этого значения."
   ]
  },
  {
   "cell_type": "code",
   "execution_count": 36,
   "metadata": {},
   "outputs": [
    {
     "data": {
      "image/png": "[encoded data removed]",
      "text/plain": [
       "<Figure size 640x480 with 1 Axes>"
      ]
     },
     "metadata": {},
     "output_type": "display_data"
    }
   ],
   "source": [
    "ISF = data.isf(x)\n",
    "plt.plot(x, ISF)\n",
    "plt.show()"
   ]
  },
  {
   "cell_type": "code",
   "execution_count": 46,
   "metadata": {},
   "outputs": [
    {
     "data": {
      "text/plain": [
       "0.02275"
      ]
     },
     "execution_count": 46,
     "metadata": {},
     "output_type": "execute_result"
    }
   ],
   "source": [
    "normal = stats.norm(50, 2)\n",
    "\n",
    "round(normal.cdf(46), 5)"
   ]
  },
  {
   "cell_type": "code",
   "execution_count": 47,
   "metadata": {},
   "outputs": [
    {
     "data": {
      "text/plain": [
       "0.15866"
      ]
     },
     "execution_count": 47,
     "metadata": {},
     "output_type": "execute_result"
    }
   ],
   "source": [
    "normal = stats.norm(30, 4)\n",
    "\n",
    "round(normal.sf(34), 5)"
   ]
  },
  {
   "cell_type": "code",
   "execution_count": 49,
   "metadata": {},
   "outputs": [
    {
     "data": {
      "text/plain": [
       "0.00251"
      ]
     },
     "execution_count": 49,
     "metadata": {},
     "output_type": "execute_result"
    }
   ],
   "source": [
    "normal = stats.norm(0, 4.54)\n",
    "\n",
    "normal.pdf(12.11).round(5)"
   ]
  },
  {
   "cell_type": "code",
   "execution_count": null,
   "metadata": {},
   "outputs": [
    {
     "data": {
      "text/plain": [
       "0.54343"
      ]
     },
     "execution_count": 60,
     "metadata": {},
     "output_type": "execute_result"
    }
   ],
   "source": [
    "normal = stats.norm(0, 1.95)\n",
    "\n",
    "round(normal.cdf(2) - normal.cdf(-1) , 5)"
   ]
  },
  {
   "cell_type": "code",
   "execution_count": 63,
   "metadata": {},
   "outputs": [
    {
     "data": {
      "text/plain": [
       "0.87126"
      ]
     },
     "execution_count": 63,
     "metadata": {},
     "output_type": "execute_result"
    }
   ],
   "source": [
    "normal = stats.norm(7.45, 1.36)\n",
    "\n",
    "normal.cdf(8.99).round(5)"
   ]
  },
  {
   "cell_type": "code",
   "execution_count": 64,
   "metadata": {},
   "outputs": [
    {
     "data": {
      "text/plain": [
       "-1.6448536269514729"
      ]
     },
     "execution_count": 64,
     "metadata": {},
     "output_type": "execute_result"
    }
   ],
   "source": [
    "data_z = stats.norm(0, 1)\n",
    "\n",
    "data_z.ppf(0.05)"
   ]
  },
  {
   "cell_type": "code",
   "execution_count": 67,
   "metadata": {},
   "outputs": [
    {
     "data": {
      "text/plain": [
       "57.28351836792086"
      ]
     },
     "execution_count": 67,
     "metadata": {},
     "output_type": "execute_result"
    }
   ],
   "source": [
    "sd = 5.34\n",
    "p_05 = 48.5\n",
    "\n",
    "x_mean = - (data_z.ppf(0.05) * sd - p_05)\n",
    "x_mean"
   ]
  },
  {
   "cell_type": "code",
   "execution_count": 86,
   "metadata": {},
   "outputs": [],
   "source": [
    "mu = 78.97 - 46.65  # Среднее значение\n",
    "sigma = np.sqrt(8.11**2 + 13.23**2)  # Стандартное отклонение\n",
    "normal = stats.norm(mu, sigma)\n",
    "\n",
    "v_0 = normal.sf(0).round(5)"
   ]
  },
  {
   "cell_type": "code",
   "execution_count": 98,
   "metadata": {},
   "outputs": [
    {
     "data": {
      "image/png": "[encoded data removed]",
      "text/plain": [
       "<Figure size 640x480 with 1 Axes>"
      ]
     },
     "metadata": {},
     "output_type": "display_data"
    },
    {
     "data": {
      "image/png": "[encoded data removed]",
      "text/plain": [
       "<Figure size 640x480 with 1 Axes>"
      ]
     },
     "metadata": {},
     "output_type": "display_data"
    }
   ],
   "source": [
    "# Параметры распределений\n",
    "mu1 = 78.97  # Средний доход с высшим образованием\n",
    "sigma1 = 13.23 \n",
    "mu2 = 46.65  # Средний доход без высшего образования\n",
    "sigma2 = 8.11\n",
    "\n",
    "# Создание распределений\n",
    "dist1 = stats.norm(mu1, sigma1)\n",
    "dist2 = stats.norm(mu2, sigma2)\n",
    "\n",
    "# Диапазон для построения графиков\n",
    "x_1 = np.linspace(mu1 - 3*sigma1, mu1 + 3*sigma1, 500)\n",
    "x_2 = np.linspace(mu2 - 3*sigma2, mu2 + 3*sigma2, 500)\n",
    "\n",
    "\n",
    "# Построение графиков отдельных распределений\n",
    "plt.plot(x_1, dist1.pdf(x_1), label='С высшим образованием')\n",
    "plt.plot(x_2, dist2.pdf(x_2), label='Без высшего образования')\n",
    "plt.legend()\n",
    "\n",
    "# Расчет параметров совместного распределения\n",
    "mu_diff = mu1 - mu2\n",
    "sigma_diff = np.sqrt(sigma1**2 + sigma2**2)\n",
    "normal = stats.norm(mu_diff, sigma_diff)\n",
    "\n",
    "\n",
    "# Построение графика совместного распределения\n",
    "x_diff = np.linspace(mu_diff - 3*sigma_diff, mu_diff + 3*sigma_diff, 500)\n",
    "plt.figure() # Новая фигура для совместного распределения\n",
    "plt.plot(x_diff, normal.pdf(x_diff), label='Разница в доходах')\n",
    "\n",
    "\n",
    "# Заштриховываем область вероятности\n",
    "x_fill = np.linspace(0, mu_diff + 3*sigma_diff, 500)\n",
    "plt.fill_between(x_fill, normal.pdf(x_fill), color='lightblue', label=f'P(X > 0) = {normal.sf(0):.5f}')\n",
    "\n",
    "\n",
    "# Настройки графиков\n",
    "plt.title('Совместное распределение')\n",
    "plt.xlabel('Разница в доходах')\n",
    "plt.ylabel('Плотность вероятности')\n",
    "\n",
    "plt.legend()\n",
    "plt.grid(True)\n",
    "plt.show()"
   ]
  },
  {
   "cell_type": "markdown",
   "metadata": {},
   "source": [
    "Убедиться, что рассматриваемое нами непрерывное распределение является нормальным, можно проведя различные тесты, например: \n",
    "\n",
    "    Тест Колмогорова-Смирнова (Kolmogorov-Smirnov test)\n",
    "    Тест Колмогорова-Смирнова с поправкой Лиллиефорса (Lilliefors test)\n",
    "    Тест Шапиро-Уилка (Shapiro-Wilk test)  \n",
    "    Тест Андерсона-Дарлинга (Anderson-Darling test)\n",
    "    Тест Крамера-Мизеса (Сramer-von Mises test) \n",
    "    Тест на асимметричность и эксцессы (D’Agostino skewness test,  Anscombe-Glynn kurtosis test)\n",
    "    Тест Харке-Бера (Jarque-Bera test) и др.\n",
    "Тесты на нормальность сравнивают проверяемую выборку с теоретическим распределением (в нашем случае с нормальным) с такими же значениями среднего и стандартного отклонения. Нулевая гипотеза заключается в том, что выборка имеет нормальное распределение. В случае наличия оснований (например, при p-value < 0.05) считать, что полученные в тесте различия являются статистически значимыми, мы можем отвергнуть нулевую гипотезу о нормальности распределения.\n",
    "\n",
    "На небольших выборках и на выборках с асимметричным распределением тест Шапиро-Уилка и тест Андерсона-Далринга имеют наибольшую мощность в сравнении с другими тестами. Тест Колмогорова-Смирнова (без поправки Лиллиефорса) дает плохие результаты на малых выборках.\n",
    "\n",
    "Важно: на практике для решения задач оценки соответствия распределения данных нормальному распределению в большинстве случаев будет достаточно одного из трех тестов: Колмогорова-Смирнова с поправкой Лиллиефорса (для больших выборок с симметричным распределением), Шапиро-Уилка (для небольших выборок с возможной асимметрией) или теста Андерсона-Дарлинга."
   ]
  },
  {
   "cell_type": "markdown",
   "metadata": {},
   "source": [
    "**Тест Колмогорова-Смирнова** (Kolmogorov–Smirnov test, K-S) используется для проверки того, соответствует ли выборка определенному распределению, например, нормальному. \n",
    "\n",
    "Тест K-S cравнивает эмпирическую функцию распределения (empirical cumulative distribution function, ECDF) с теоретической функцией распределения (theoretical cumulative distribution function, TCDF) со средним значением и стандартным отклонением, которые соответствуют нашей выборке. \n",
    "\n",
    "<image src=\"https://ucarecdn.com/0021a6ad-1426-41ae-95a7-3300a0f8cee5/\">\n",
    "\n",
    "Далее рассчитываются расстояния между функциями ECDF и TCDF в каждой точке и находится супремум (максимальное значение) этих расстояний, на основе которого рассчитываются статистики Колмогорова-Смирнова и принимаются итоговые решения.\n",
    "\n",
    "\n",
    "\n",
    "Важно: Поскольку в тесте K-S рассчитывается именно супремум расстояний между ECDF и TCDF, то он может быть очень чувствителен к наличию выбросов - это является ограничением K-S теста. Однако поправка Лиллиефорса может сделать K-S тест более консервативным к наличию выбросов. K-S тест с поправкой Лиллиефорса считается более подходящим для больших выборок.\n",
    "\n",
    " \n",
    "\n",
    "Тест Колмогорова-Смирнова может быть применен для сравнения двух разных выборок между собой и ответа на вопрос, являются ли проверяемые выборки однородными, то есть происходящими из одного и того же распределения (двухвыборочный тест Колмогорова-Смирнова).\n",
    "\n",
    "Тесты Крамера-Мизеса и Андерсона-Дарлинга также сравнивают между собой функции ECDF и TCDF, но помогают проводить более специфицированные тесты, например, хорошо отлавливать разницу в области, близкой к среднему значению распределения (критерий Крамера-Мизеса) или в области хвостов распределения (критерий Андерсона-Дарлинга), в отличие от критерия Колмогорова-Смирнова, который специфицирован для всего диапазона данных."
   ]
  },
  {
   "cell_type": "code",
   "execution_count": 103,
   "metadata": {},
   "outputs": [
    {
     "name": "stdout",
     "output_type": "stream",
     "text": [
      "KstestResult(statistic=0.5009017028793219, pvalue=1.35806479802988e-232, statistic_location=0.0022602358570880305, statistic_sign=-1)\n"
     ]
    }
   ],
   "source": [
    "# инициализируем генератор псевдослучайных чисел\n",
    "seed(0)\n",
    "\n",
    "# создаем 1000 значений, имеющих логнормальное распределение со средним значением 0 и стандартным отклонением 2\n",
    "data = lognormal(0, 2, 1000)\n",
    "\n",
    "# запускаем одновыборочный тест Колмогорова-Смирнова на соответствие нашего распределения (data) нормальному распределению (norm)\n",
    "print(kstest(data, 'norm'))"
   ]
  },
  {
   "cell_type": "code",
   "execution_count": 106,
   "metadata": {},
   "outputs": [
    {
     "name": "stdout",
     "output_type": "stream",
     "text": [
      "KstestResult(statistic=0.525, pvalue=2.8513106707793296e-126, statistic_location=0.012231983638817386, statistic_sign=1)\n"
     ]
    }
   ],
   "source": [
    "# инициализируем генератор псевдослучайных чисел\n",
    "seed(0)\n",
    "\n",
    "# создаем 1000 значений, имеющих стандартное нормальное распределение\n",
    "standard_normal = randn(1000)\n",
    "\n",
    "# создаем 100 значений, имеющих логнормальное распределение со средним значением 0 и стандартным отклонением 2\n",
    "log_normal = lognormal(0, 2, 1000)\n",
    "\n",
    "# запускаем двухвыборочный тест Колмогорова-Смирнова\n",
    "print(ks_2samp(standard_normal, log_normal))"
   ]
  },
  {
   "cell_type": "markdown",
   "metadata": {},
   "source": [
    "Для проведения теста **Колмогорова-Смирнова с поправкой Лиллиефорса** (Lilliefors test) в Python будем использовать lillifors библиотеки statsmodels. На примере того же логнормального распределения попробуем провести тест Колмогорова-Смирнова с поправкой Лиллиефорса и оценить, достаточно ли у нас оснований, чтобы отвергнуть нулевую гипотезу теста о соответствии нормальному распределению:"
   ]
  },
  {
   "cell_type": "code",
   "execution_count": 6,
   "metadata": {},
   "outputs": [
    {
     "name": "stdout",
     "output_type": "stream",
     "text": [
      "(0.3757620191903032, 0.0009999999999998899)\n"
     ]
    }
   ],
   "source": [
    "# инициализируем генератор псевдослучайных чисел\n",
    "seed(0)\n",
    "\n",
    "# создаем 1000 значений, имеющих логнормальное распределение со средним значением 0 и стандартным отклонением 2\n",
    "data = lognormal(0, 2, 1000)\n",
    "\n",
    "# запускаем одновыборочный тест Колмогорова-Смирнова c поправкой Лиллиефорса\n",
    "print(lilliefors(data))"
   ]
  },
  {
   "cell_type": "markdown",
   "metadata": {},
   "source": [
    "Поскольку получившееся значение p-value (0.00099999...) < 0.01, мы можем отвергнуть нулевую гипотезу о нормальности данных."
   ]
  },
  {
   "cell_type": "code",
   "execution_count": 9,
   "metadata": {},
   "outputs": [
    {
     "data": {
      "text/html": [
       "<div>\n",
       "<style scoped>\n",
       "    .dataframe tbody tr th:only-of-type {\n",
       "        vertical-align: middle;\n",
       "    }\n",
       "\n",
       "    .dataframe tbody tr th {\n",
       "        vertical-align: top;\n",
       "    }\n",
       "\n",
       "    .dataframe thead th {\n",
       "        text-align: right;\n",
       "    }\n",
       "</style>\n",
       "<table border=\"1\" class=\"dataframe\">\n",
       "  <thead>\n",
       "    <tr style=\"text-align: right;\">\n",
       "      <th></th>\n",
       "      <th>Date</th>\n",
       "      <th>Return_SP_500</th>\n",
       "    </tr>\n",
       "  </thead>\n",
       "  <tbody>\n",
       "    <tr>\n",
       "      <th>0</th>\n",
       "      <td>02.12.2014</td>\n",
       "      <td>0.006384</td>\n",
       "    </tr>\n",
       "    <tr>\n",
       "      <th>1</th>\n",
       "      <td>03.12.2014</td>\n",
       "      <td>0.003765</td>\n",
       "    </tr>\n",
       "    <tr>\n",
       "      <th>2</th>\n",
       "      <td>04.12.2014</td>\n",
       "      <td>-0.001162</td>\n",
       "    </tr>\n",
       "    <tr>\n",
       "      <th>3</th>\n",
       "      <td>05.12.2014</td>\n",
       "      <td>0.001665</td>\n",
       "    </tr>\n",
       "    <tr>\n",
       "      <th>4</th>\n",
       "      <td>08.12.2014</td>\n",
       "      <td>-0.007257</td>\n",
       "    </tr>\n",
       "    <tr>\n",
       "      <th>...</th>\n",
       "      <td>...</td>\n",
       "      <td>...</td>\n",
       "    </tr>\n",
       "    <tr>\n",
       "      <th>1249</th>\n",
       "      <td>18.11.2019</td>\n",
       "      <td>0.000503</td>\n",
       "    </tr>\n",
       "    <tr>\n",
       "      <th>1250</th>\n",
       "      <td>19.11.2019</td>\n",
       "      <td>-0.000593</td>\n",
       "    </tr>\n",
       "    <tr>\n",
       "      <th>1251</th>\n",
       "      <td>20.11.2019</td>\n",
       "      <td>-0.003756</td>\n",
       "    </tr>\n",
       "    <tr>\n",
       "      <th>1252</th>\n",
       "      <td>21.11.2019</td>\n",
       "      <td>-0.001583</td>\n",
       "    </tr>\n",
       "    <tr>\n",
       "      <th>1253</th>\n",
       "      <td>22.11.2019</td>\n",
       "      <td>0.002175</td>\n",
       "    </tr>\n",
       "  </tbody>\n",
       "</table>\n",
       "<p>1254 rows × 2 columns</p>\n",
       "</div>"
      ],
      "text/plain": [
       "            Date  Return_SP_500\n",
       "0     02.12.2014       0.006384\n",
       "1     03.12.2014       0.003765\n",
       "2     04.12.2014      -0.001162\n",
       "3     05.12.2014       0.001665\n",
       "4     08.12.2014      -0.007257\n",
       "...          ...            ...\n",
       "1249  18.11.2019       0.000503\n",
       "1250  19.11.2019      -0.000593\n",
       "1251  20.11.2019      -0.003756\n",
       "1252  21.11.2019      -0.001583\n",
       "1253  22.11.2019       0.002175\n",
       "\n",
       "[1254 rows x 2 columns]"
      ]
     },
     "execution_count": 9,
     "metadata": {},
     "output_type": "execute_result"
    }
   ],
   "source": [
    "data = pd.read_csv('/Users/mihailevtyugin/Downloads/SP_500_returns.csv', sep=';')\n",
    "data"
   ]
  },
  {
   "cell_type": "code",
   "execution_count": 14,
   "metadata": {},
   "outputs": [
    {
     "data": {
      "text/plain": [
       "KstestResult(statistic=0.4868045792704918, pvalue=2.6155164261960836e-274, statistic_location=0.0250830201642707, statistic_sign=1)"
      ]
     },
     "execution_count": 14,
     "metadata": {},
     "output_type": "execute_result"
    }
   ],
   "source": [
    "data_sp_500 = data.Return_SP_500\n",
    "kstest(data_sp_500, 'norm')"
   ]
  },
  {
   "cell_type": "markdown",
   "metadata": {},
   "source": [
    "**Тест Шапиро-Уилка** основан на корреляции между нашими данными и соответствующими нормально распределенными значениями и обеспечивает более высокую мощность, чем K-S тест даже с учетом поправки Лиллиефорса."
   ]
  },
  {
   "cell_type": "code",
   "execution_count": 17,
   "metadata": {},
   "outputs": [
    {
     "name": "stdout",
     "output_type": "stream",
     "text": [
      "ShapiroResult(statistic=0.9581912025699156, pvalue=0.0029943533404083633)\n"
     ]
    }
   ],
   "source": [
    "# инициализируем генератор псевдослучайных чисел\n",
    "seed(0)\n",
    "\n",
    "# создаем 100 значений, имеющих распределение Пуассона с лямбдой, равной 5\n",
    "data = poisson(5, 100)\n",
    "\n",
    "# запускаем тест Шапиро-Уилка на соответствие нашего распределения (data) нормальному распределению\n",
    "print(shapiro(data))"
   ]
  },
  {
   "cell_type": "markdown",
   "metadata": {},
   "source": [
    "Еще одним способом проверить данные на нормальность является визуальный анализ графиков QQ Plot. Это особенно актуально в случаях, когда выборка не слишком большая.\n",
    "\n",
    "**QQ plot** (Quantile-Quantile Plot) - это графический инструмент, используемый для оценки того, соответствует ли набор данных некоему теоретическому распределению, например, нормальному (normal QQ Plot).\n",
    "\n",
    "<image src=\"https://ucarecdn.com/369dd574-2ab0-4ea3-93c1-5519a71eb6a3/\">\n",
    "\n",
    "По горизонтальной оси QQ plot располагаются теоретические квантили стандартного нормального распределения (обычно). Значения -2, -1, 0, 1 и 2 на горизонтальной оси выражены в единицах стандартного отклонения, т.е. в интервале от -1 до 1 находятся почти 68% всех наблюдений, а в интервале от -2 до 2 находятся почти 95%\n",
    "\n",
    "По вертикальной оси QQ plot располагаются квантили выборочного распределения, которое мы проверяем на соответствие нормальному.\n",
    "\n",
    "Прямая линия – это линия главного тренда (reference line) для выборочных данных, которая строится в статистических пакетах (например, на основе метода МНК). \n",
    "\n",
    "Если рассматриваемое распределение является нормальным, то точки на графике QQ Plot будут располагаться вдоль некоторой прямой (т.е. рассматриваемое распределение и теоретическое нормальное распределение линейно зависимы). Intercept (пересечение с вертикальной осью) и slope (наклон) этой прямой имеют смысл среднего и стандартного отклонения нормального распределения, наилучшим образом подходящего к нашим данным. Эта прямая необязательно будет соответствовать прямой x = y.\n",
    "\n",
    "\n",
    "\n",
    "\n"
   ]
  },
  {
   "cell_type": "code",
   "execution_count": 20,
   "metadata": {},
   "outputs": [
    {
     "data": {
      "image/png": "[encoded data removed]",
      "text/plain": [
       "<Figure size 640x480 with 1 Axes>"
      ]
     },
     "metadata": {},
     "output_type": "display_data"
    }
   ],
   "source": [
    "np.random.seed(0)\n",
    "# Создаем выборку из 1000 значений, имеющих стандартное нормальное распределение\n",
    "data = randn(1000)\n",
    "\n",
    "# Строим QQ plot с reference line в виде прямой линии под 45 градусов\n",
    "fig = sm.qqplot(data, line='45')\n",
    "plt.show()"
   ]
  },
  {
   "cell_type": "markdown",
   "metadata": {},
   "source": [
    "Аргумент line = '45' подходит только для z-стандартизированных данных, если у вас любые другие данные, то нужно использовать line = 'q', либо line = '45'  вместе с fit=True."
   ]
  },
  {
   "cell_type": "code",
   "execution_count": 21,
   "metadata": {},
   "outputs": [
    {
     "data": {
      "image/png": "[encoded data removed]",
      "text/plain": [
       "<Figure size 640x480 with 1 Axes>"
      ]
     },
     "metadata": {},
     "output_type": "display_data"
    }
   ],
   "source": [
    "np.random.seed(0)\n",
    "# Создаем выборку из 1000 значений, имеющих логнормальное распределение\n",
    "data = lognormal(0, 1, 1000)\n",
    "\n",
    "# Строим QQ plot с reference line в виде прямой линии под 45 градусов\n",
    "fig = sm.qqplot(data, line='45')\n",
    "plt.show()"
   ]
  },
  {
   "cell_type": "code",
   "execution_count": 30,
   "metadata": {},
   "outputs": [
    {
     "data": {
      "image/png": "[encoded data removed]",
      "text/plain": [
       "<Figure size 640x480 with 1 Axes>"
      ]
     },
     "metadata": {},
     "output_type": "display_data"
    }
   ],
   "source": [
    "sts.probplot(data, dist=\"norm\", plot=plt)\n",
    "plt.show()"
   ]
  },
  {
   "cell_type": "markdown",
   "metadata": {},
   "source": [
    "**Одновыборочный t-тест** предназначен для проверки того, равно ли реальное математическое ожидание генеральной совокупности случайной величины μ (для которой известна лишь выборка с известными средним Mx и стандартным отклонением sd) некоторому заданному значению в предположении, что дисперсия генеральной совокупности σ не известна.\n",
    "\n",
    "Нулевая гипотеза формулируется как μ=m, т.е. что реальное математическое ожидание генеральной совокупности равно заданному значению m. Альтернативная гипотеза формулируются как μ≠m.\n",
    "\n",
    "Проводя одновыборочный t-тест, мы хотим проверить, насколько вероятно, что математическое ожидание генеральной совокупности на самом деле равно m, учитывая наши знания о некоторой выборке (Mx, sd)."
   ]
  },
  {
   "cell_type": "markdown",
   "metadata": {},
   "source": [
    "Проведем одновыборочный t-тест с помощью .ttest_1samp с нулевой гипотезой о том, что μ=9.71:"
   ]
  },
  {
   "cell_type": "code",
   "execution_count": 32,
   "metadata": {},
   "outputs": [
    {
     "name": "stdout",
     "output_type": "stream",
     "text": [
      "TtestResult(statistic=-0.1732921346582918, pvalue=0.8645951722916501, df=16)\n"
     ]
    }
   ],
   "source": [
    "sample = [7, 8, 9, 13, 10, 9, 9, 10, 9, 11, 12, 8, 9, 11, 10, 9, 10]\n",
    "\n",
    "print(ttest_1samp(sample, 9.71))"
   ]
  },
  {
   "cell_type": "markdown",
   "metadata": {},
   "source": [
    "**Двухвыборочный t-тест** предназначен для проверки того, равно ли математическое ожидание генеральной совокупности μx, из которой была извлечена выборка с известными средним Mx и стандартным отклонением sdx, математическому ожиданию генеральной совокупности μy, из которой была извлечена выборка с известными средним My и стандартным отклонением sdy. Предполагается, что выборки являются независимыми, а стандартные отклонения их генеральных совокупностей σx и σy равны (гомогенность/однородность дисперсий), хотя и неизвестны.\n",
    "\n",
    "Нулевая гипотеза формулируется как μx=μy, т.е. что математические ожидания двух генеральных совокупностей на самом деле равны. Альтернативная гипотеза формулируются как μx≠μy."
   ]
  },
  {
   "cell_type": "markdown",
   "metadata": {},
   "source": [
    "Провести двухвыборочный t-тест в Python мы можем также в одну строчку с помощью библиотеки scipy."
   ]
  },
  {
   "cell_type": "code",
   "execution_count": 33,
   "metadata": {},
   "outputs": [],
   "source": [
    "# Допустим у нас есть две выборки:\n",
    "\n",
    "sample_x = [7, 8, 9, 13, 10, 9, 9, 10, 9, 11, 12, 8, 9, 11, 10, 9, 10]\n",
    "sample_y = [9, 12, 11, 11, 12, 8, 7, 9, 8, 10, 11, 10, 9, 10, 11, 9, 8]"
   ]
  },
  {
   "cell_type": "code",
   "execution_count": 34,
   "metadata": {},
   "outputs": [
    {
     "name": "stdout",
     "output_type": "stream",
     "text": [
      "2.110726643598616\n",
      "2.0899653979238755\n"
     ]
    }
   ],
   "source": [
    "# Проверим выборочные дисперсии:\n",
    "\n",
    "print(np.var(sample_x))\n",
    "print(np.var(sample_y))"
   ]
  },
  {
   "cell_type": "markdown",
   "metadata": {},
   "source": [
    "Для проверки их равенства используем **критерий Фишера**:"
   ]
  },
  {
   "cell_type": "code",
   "execution_count": 43,
   "metadata": {},
   "outputs": [
    {
     "data": {
      "text/plain": [
       "LeveneResult(statistic=0.11469534050179216, pvalue=0.7370728383940547)"
      ]
     },
     "execution_count": 43,
     "metadata": {},
     "output_type": "execute_result"
    }
   ],
   "source": [
    "levene(sample_x, sample_y)"
   ]
  },
  {
   "cell_type": "markdown",
   "metadata": {},
   "source": [
    "Предпосылка о гомогенности дисперсий соблюдается. Можем проводить стандартный двухвыборочный t-тест для независимых выборок с помощью ttest_ind"
   ]
  },
  {
   "cell_type": "code",
   "execution_count": 36,
   "metadata": {},
   "outputs": [
    {
     "name": "stdout",
     "output_type": "stream",
     "text": [
      "TtestResult(statistic=-0.11480231558605788, pvalue=0.9093191532301865, df=32.0)\n"
     ]
    }
   ],
   "source": [
    "print(ttest_ind(sample_x, sample_y))"
   ]
  },
  {
   "cell_type": "markdown",
   "metadata": {},
   "source": [
    "Полученное значение p-value = 0,909 сильно больше 0,05, поэтому у нас недостаточно оснований, чтобы отвергнуть нулевую гипотезу о равенстве математических ожиданий двух генеральных совокупностей.\n",
    "\n",
    "**Важно**: ttest_ind по умолчанию предполагает равенство дисперсий двух выборок (например, можем предположить, что генеральные совокупности имеют равные дисперсии, если отношение между выборочными дисперсиями хотя бы не превышает 4). В случае, если гомогенность дисперсий не соблюдаются, то необходимо добавить параметр equal_var=False - в этом случае будет выполняться t-тест Уэлча, который не имеет предпосылок о гомогенности дисперсий."
   ]
  },
  {
   "cell_type": "markdown",
   "metadata": {},
   "source": [
    "Есть также вариант проведения двухвыборочного t-теста для сравнения двух независимых выборок между собой путем задания характеристик каждой из двух выборок (mean_x = 65, sd_x = 7, n_x = 1000 и mean_x = 72, sd_x = 9, n_x = 1000) с помощью ttest_ind_from_stats:"
   ]
  },
  {
   "cell_type": "code",
   "execution_count": 39,
   "metadata": {},
   "outputs": [
    {
     "data": {
      "text/plain": [
       "Ttest_indResult(statistic=-19.414506867883016, pvalue=4.6895728785359045e-77)"
      ]
     },
     "execution_count": 39,
     "metadata": {},
     "output_type": "execute_result"
    }
   ],
   "source": [
    "s = ttest_ind_from_stats(65,7,1000,72,9,1000)\n",
    "s"
   ]
  }
 ],
 "metadata": {
  "kernelspec": {
   "display_name": "Pet-project",
   "language": "python",
   "name": "python3"
  },
  "language_info": {
   "codemirror_mode": {
    "name": "ipython",
    "version": 3
   },
   "file_extension": ".py",
   "mimetype": "text/x-python",
   "name": "python",
   "nbconvert_exporter": "python",
   "pygments_lexer": "ipython3",
   "version": "3.10.15"
  }
 },
 "nbformat": 4,
 "nbformat_minor": 2
}
