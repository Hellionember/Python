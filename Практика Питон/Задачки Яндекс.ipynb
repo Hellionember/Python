{
 "cells": [
  {
   "cell_type": "code",
   "execution_count": 5,
   "metadata": {},
   "outputs": [],
   "source": [
    "import numpy as np\n",
    "import pytest"
   ]
  },
  {
   "cell_type": "markdown",
   "metadata": {},
   "source": [
    "Проверка, что у слова последний символ буква?"
   ]
  },
  {
   "cell_type": "code",
   "execution_count": null,
   "metadata": {},
   "outputs": [],
   "source": [
    "ms = [i if i[-1].isalpha() else i[:-1] for i in input().strip().split()]"
   ]
  },
  {
   "cell_type": "markdown",
   "metadata": {},
   "source": [
    "Подсчет уникальных слов (чуть кривой, тк не учитывает заглавные буквы и пунктуацию)"
   ]
  },
  {
   "cell_type": "code",
   "execution_count": null,
   "metadata": {},
   "outputs": [
    {
     "data": {
      "text/plain": [
       "19"
      ]
     },
     "metadata": {},
     "output_type": "display_data"
    }
   ],
   "source": [
    "string = \"She sells sea shells on the sea shore; \\\n",
    "        The shells that she sells are sea shells I'm sure. \\\n",
    "        So if she sells sea shells on the sea shore, \\\n",
    "        I'm sure that the shells are sea shore shells.\"\n",
    "\n",
    "len(set([i for i in string.split()]))"
   ]
  },
  {
   "cell_type": "markdown",
   "metadata": {},
   "source": [
    "Проверка на монотонно возрастающую последовательность"
   ]
  },
  {
   "cell_type": "code",
   "execution_count": null,
   "metadata": {},
   "outputs": [
    {
     "name": "stdout",
     "output_type": "stream",
     "text": [
      "NO\n"
     ]
    }
   ],
   "source": [
    "string = [int(i) for i in input().split()]\n",
    "\n",
    "if all(map(lambda x: string[x-1] < string[x], range(1, len(string)))):\n",
    "    print('YES')\n",
    "else:\n",
    "    print('NO')"
   ]
  },
  {
   "cell_type": "markdown",
   "metadata": {},
   "source": [
    "Умножение матриц и транспонирование"
   ]
  },
  {
   "cell_type": "code",
   "execution_count": null,
   "metadata": {},
   "outputs": [
    {
     "ename": "ValueError",
     "evalue": "invalid literal for int() with base 10: '3 8'",
     "output_type": "error",
     "traceback": [
      "\u001b[0;31m---------------------------------------------------------------------------\u001b[0m\n",
      "\u001b[0;31mValueError\u001b[0m                                Traceback (most recent call last)\n",
      "Cell \u001b[0;32mIn[56], line 3\u001b[0m\n",
      "\u001b[1;32m      1\u001b[0m n, m, k \u001b[38;5;241m=\u001b[39m \u001b[38;5;28mmap\u001b[39m(\u001b[38;5;28mint\u001b[39m, \u001b[38;5;28minput\u001b[39m()\u001b[38;5;241m.\u001b[39msplit())\n",
      "\u001b[0;32m----> 3\u001b[0m matrix_1 \u001b[38;5;241m=\u001b[39m [[\u001b[38;5;28mint\u001b[39m(\u001b[38;5;28minput\u001b[39m()) \u001b[38;5;28;01mfor\u001b[39;00m _ \u001b[38;5;129;01min\u001b[39;00m \u001b[38;5;28mrange\u001b[39m(m)] \u001b[38;5;28;01mfor\u001b[39;00m _ \u001b[38;5;129;01min\u001b[39;00m \u001b[38;5;28mrange\u001b[39m(n)] \u001b[38;5;66;03m# матрица n на m\u001b[39;00m\n",
      "\u001b[1;32m      4\u001b[0m matrix_2 \u001b[38;5;241m=\u001b[39m [[\u001b[38;5;28mint\u001b[39m(\u001b[38;5;28minput\u001b[39m()) \u001b[38;5;28;01mfor\u001b[39;00m _ \u001b[38;5;129;01min\u001b[39;00m \u001b[38;5;28mrange\u001b[39m(k)] \u001b[38;5;28;01mfor\u001b[39;00m _ \u001b[38;5;129;01min\u001b[39;00m \u001b[38;5;28mrange\u001b[39m(m)] \u001b[38;5;66;03m# матрица m на k\u001b[39;00m\n",
      "\u001b[1;32m      6\u001b[0m matrix_3 \u001b[38;5;241m=\u001b[39m [[\u001b[38;5;241m0\u001b[39m \u001b[38;5;28;01mfor\u001b[39;00m _ \u001b[38;5;129;01min\u001b[39;00m \u001b[38;5;28mrange\u001b[39m(k)] \u001b[38;5;28;01mfor\u001b[39;00m _ \u001b[38;5;129;01min\u001b[39;00m \u001b[38;5;28mrange\u001b[39m(n)] \u001b[38;5;66;03m# должна получится матрица n на k\u001b[39;00m\n",
      "\n",
      "Cell \u001b[0;32mIn[56], line 3\u001b[0m, in \u001b[0;36m<listcomp>\u001b[0;34m(.0)\u001b[0m\n",
      "\u001b[1;32m      1\u001b[0m n, m, k \u001b[38;5;241m=\u001b[39m \u001b[38;5;28mmap\u001b[39m(\u001b[38;5;28mint\u001b[39m, \u001b[38;5;28minput\u001b[39m()\u001b[38;5;241m.\u001b[39msplit())\n",
      "\u001b[0;32m----> 3\u001b[0m matrix_1 \u001b[38;5;241m=\u001b[39m [[\u001b[38;5;28mint\u001b[39m(\u001b[38;5;28minput\u001b[39m()) \u001b[38;5;28;01mfor\u001b[39;00m _ \u001b[38;5;129;01min\u001b[39;00m \u001b[38;5;28mrange\u001b[39m(m)] \u001b[38;5;28;01mfor\u001b[39;00m _ \u001b[38;5;129;01min\u001b[39;00m \u001b[38;5;28mrange\u001b[39m(n)] \u001b[38;5;66;03m# матрица n на m\u001b[39;00m\n",
      "\u001b[1;32m      4\u001b[0m matrix_2 \u001b[38;5;241m=\u001b[39m [[\u001b[38;5;28mint\u001b[39m(\u001b[38;5;28minput\u001b[39m()) \u001b[38;5;28;01mfor\u001b[39;00m _ \u001b[38;5;129;01min\u001b[39;00m \u001b[38;5;28mrange\u001b[39m(k)] \u001b[38;5;28;01mfor\u001b[39;00m _ \u001b[38;5;129;01min\u001b[39;00m \u001b[38;5;28mrange\u001b[39m(m)] \u001b[38;5;66;03m# матрица m на k\u001b[39;00m\n",
      "\u001b[1;32m      6\u001b[0m matrix_3 \u001b[38;5;241m=\u001b[39m [[\u001b[38;5;241m0\u001b[39m \u001b[38;5;28;01mfor\u001b[39;00m _ \u001b[38;5;129;01min\u001b[39;00m \u001b[38;5;28mrange\u001b[39m(k)] \u001b[38;5;28;01mfor\u001b[39;00m _ \u001b[38;5;129;01min\u001b[39;00m \u001b[38;5;28mrange\u001b[39m(n)] \u001b[38;5;66;03m# должна получится матрица n на k\u001b[39;00m\n",
      "\n",
      "Cell \u001b[0;32mIn[56], line 3\u001b[0m, in \u001b[0;36m<listcomp>\u001b[0;34m(.0)\u001b[0m\n",
      "\u001b[1;32m      1\u001b[0m n, m, k \u001b[38;5;241m=\u001b[39m \u001b[38;5;28mmap\u001b[39m(\u001b[38;5;28mint\u001b[39m, \u001b[38;5;28minput\u001b[39m()\u001b[38;5;241m.\u001b[39msplit())\n",
      "\u001b[0;32m----> 3\u001b[0m matrix_1 \u001b[38;5;241m=\u001b[39m [[\u001b[38;5;28;43mint\u001b[39;49m\u001b[43m(\u001b[49m\u001b[38;5;28;43minput\u001b[39;49m\u001b[43m(\u001b[49m\u001b[43m)\u001b[49m\u001b[43m)\u001b[49m \u001b[38;5;28;01mfor\u001b[39;00m _ \u001b[38;5;129;01min\u001b[39;00m \u001b[38;5;28mrange\u001b[39m(m)] \u001b[38;5;28;01mfor\u001b[39;00m _ \u001b[38;5;129;01min\u001b[39;00m \u001b[38;5;28mrange\u001b[39m(n)] \u001b[38;5;66;03m# матрица n на m\u001b[39;00m\n",
      "\u001b[1;32m      4\u001b[0m matrix_2 \u001b[38;5;241m=\u001b[39m [[\u001b[38;5;28mint\u001b[39m(\u001b[38;5;28minput\u001b[39m()) \u001b[38;5;28;01mfor\u001b[39;00m _ \u001b[38;5;129;01min\u001b[39;00m \u001b[38;5;28mrange\u001b[39m(k)] \u001b[38;5;28;01mfor\u001b[39;00m _ \u001b[38;5;129;01min\u001b[39;00m \u001b[38;5;28mrange\u001b[39m(m)] \u001b[38;5;66;03m# матрица m на k\u001b[39;00m\n",
      "\u001b[1;32m      6\u001b[0m matrix_3 \u001b[38;5;241m=\u001b[39m [[\u001b[38;5;241m0\u001b[39m \u001b[38;5;28;01mfor\u001b[39;00m _ \u001b[38;5;129;01min\u001b[39;00m \u001b[38;5;28mrange\u001b[39m(k)] \u001b[38;5;28;01mfor\u001b[39;00m _ \u001b[38;5;129;01min\u001b[39;00m \u001b[38;5;28mrange\u001b[39m(n)] \u001b[38;5;66;03m# должна получится матрица n на k\u001b[39;00m\n",
      "\n",
      "\u001b[0;31mValueError\u001b[0m: invalid literal for int() with base 10: '3 8'"
     ]
    }
   ],
   "source": [
    "n, m, k = map(int, input().split())\n",
    "\n",
    "matrix_1 = [[int(input()) for _ in range(m)] for _ in range(n)] # матрица n на m\n",
    "matrix_2 = [[int(input()) for _ in range(k)] for _ in range(m)] # матрица m на k\n",
    "\n",
    "matrix_3 = [[0 for _ in range(k)] for _ in range(n)] # должна получится матрица n на k\n",
    "\n",
    "for i in range(n):\n",
    "    for j in range(k):\n",
    "        for k in range(m):\n",
    "            matrix_3[i][j] += matrix_1[i][k] * matrix_2[k][j]\n",
    "\n",
    "trans_matrix = [[matrix_3[j][i] for j in range(n)] for i in range(k)] # должна получится матрица k на n"
   ]
  },
  {
   "cell_type": "markdown",
   "metadata": {},
   "source": [
    "Нахождение НОД(наим. общий делитель) и НОК(наим. общее кратное)"
   ]
  },
  {
   "cell_type": "code",
   "execution_count": null,
   "metadata": {},
   "outputs": [
    {
     "name": "stdout",
     "output_type": "stream",
     "text": [
      "4 40\n"
     ]
    }
   ],
   "source": [
    "a, b = map(int, input().split())\n",
    "\n",
    "def NOD(a, b):\n",
    "    max_num = max(a, b)\n",
    "    min_num = min(a, b)\n",
    "    for i in range(1, max_num // min_num + 1):\n",
    "        if max_num - i * min_num < min_num:\n",
    "            z = max_num - i * min_num\n",
    "            if z == 0:\n",
    "                return min_num\n",
    "            else:\n",
    "                return NOD(z, min_num)\n",
    "\n",
    "nod = NOD(a, b)\n",
    "nok = a * b // nod\n",
    "\n",
    "print(nod, nok)\n",
    "\n"
   ]
  },
  {
   "cell_type": "markdown",
   "metadata": {},
   "source": [
    "Дается пары слов синонимов и по слову нужно вывести синоним к данному слову (без словаря)"
   ]
  },
  {
   "cell_type": "code",
   "execution_count": 8,
   "metadata": {},
   "outputs": [
    {
     "name": "stdout",
     "output_type": "stream",
     "text": [
      "Bye\n"
     ]
    }
   ],
   "source": [
    "synonim_list = []\n",
    "\n",
    "for _ in range(int(input())):\n",
    "    synonim_list.extend(input().split())\n",
    "\n",
    "word = input()\n",
    "synonim_list.index(word)\n",
    "if synonim_list.index(word) % 2 == 1:\n",
    "    print(synonim_list[synonim_list.index(word) - 1])\n",
    "else:\n",
    "    print(synonim_list[synonim_list.index(word) + 1])"
   ]
  },
  {
   "cell_type": "markdown",
   "metadata": {},
   "source": [
    "Нахождение в массиве элемента, самый близкий по величине к данному числу."
   ]
  },
  {
   "cell_type": "code",
   "execution_count": 25,
   "metadata": {},
   "outputs": [
    {
     "name": "stdout",
     "output_type": "stream",
     "text": [
      "1\n"
     ]
    }
   ],
   "source": [
    "n = int(input())\n",
    "massive = map(int, input().split())\n",
    "x = int(input())\n",
    "\n",
    "answer = dict()\n",
    "\n",
    "for i in massive:\n",
    "    answer[i] = abs(x - i)\n",
    "    if x - i == 0:\n",
    "        break\n",
    "\n",
    "print(min(answer, key=answer.get))"
   ]
  },
  {
   "cell_type": "markdown",
   "metadata": {},
   "source": [
    "Симметричная последовательность"
   ]
  },
  {
   "cell_type": "code",
   "execution_count": null,
   "metadata": {},
   "outputs": [],
   "source": [
    "n = int(input())\n",
    "\n",
    "spisok = input().split()\n",
    "\n",
    "if spisok == spisok[::-1]:\n",
    "    print(0)\n",
    "else:\n",
    "    for i in range(len(spisok) - 1):\n",
    "        dop_num = spisok[0:i+1]\n",
    "        new_spisok = spisok + dop_num[::-1]\n",
    "        if new_spisok == new_spisok[::-1]:\n",
    "            print(len(dop_num))\n",
    "            print(*dop_num[::-1])\n",
    "\n",
    "            break"
   ]
  },
  {
   "cell_type": "markdown",
   "metadata": {},
   "source": [
    "Наибольшее произведение трех чисел"
   ]
  },
  {
   "cell_type": "code",
   "execution_count": null,
   "metadata": {},
   "outputs": [],
   "source": [
    "def max_multiple(spisok):\n",
    "    min_1, min_2 = (float('inf') for _ in range(2))\n",
    "    max_1, max_2, max_3 = (float('-inf') for _ in range(3))\n",
    "\n",
    "    for i in spisok:\n",
    "        if i < min_1:\n",
    "            min_2 = min_1\n",
    "            min_1 = i\n",
    "        elif i < min_2:\n",
    "            min_2 = i\n",
    "        if i > max_1:\n",
    "            max_3 = max_2\n",
    "            max_2 = max_1\n",
    "            max_1 = i\n",
    "        elif i > max_2:\n",
    "            max_3 = max_2\n",
    "            max_2 = i\n",
    "        elif i > max_3:\n",
    "            max_3 = i\n",
    "\n",
    "    if min_1 * min_2 * max_1 > max_1 * max_2 * max_3:\n",
    "      if min_1*min_2 > 0:\n",
    "        return min_1, min_2, max_1\n",
    "      else:\n",
    "          return max_1, max_2, max_3\n",
    "    else:\n",
    "      return max_1, max_2, max_3"
   ]
  },
  {
   "cell_type": "code",
   "execution_count": null,
   "metadata": {},
   "outputs": [
    {
     "name": "stdout",
     "output_type": "stream",
     "text": [
      "Error for [ 2  3  1  3 -2  3 -1 -4  5 -4] expected 80 got 45\n",
      "Error for [-8 -7  2  9  1 -6 -1 -1  4 -4] expected 504 got 72\n",
      "Correct for [-1 -2 -4 -1 -4 -4  0 -2] expected 0 got 0\n",
      "Correct for [6 7 4 6] expected 252 got 252\n",
      "Correct for [7 6 1 0 1] expected 42 got 42\n",
      "Correct for [-2  0 -1  5  4  6] expected 120 got 120\n",
      "Error for [-1 -1 -2  7  4] expected 14 got -28\n",
      "Error for [ 4 -3 -7 -3 -2  0] expected 84 got 0\n",
      "Error for [ 1 -5 -2 -3 -4 -5 -5 -3] expected 25 got 6\n",
      "Error for [-8 -1 -2 -1] expected -16 got -2\n"
     ]
    }
   ],
   "source": [
    "for _ in range(int(input())):\n",
    "    lenght = np.random.randint(3, 10 + 1, 1)[0]\n",
    "    max_num = np.random.randint(0, 10 + 1, 1)[0]\n",
    "    min_num = np.random.randint(-10, 0+1, 1)[0]\n",
    "    spisok = np.random.randint(min_num, max_num + 1, lenght)\n",
    "    print(max_multiple(spisok), sorted(spisok)[:3], sorted(spisok)[-3:])\n",
    "    "
   ]
  },
  {
   "cell_type": "code",
   "execution_count": null,
   "metadata": {},
   "outputs": [],
   "source": []
  }
 ],
 "metadata": {
  "kernelspec": {
   "display_name": "Pet-project",
   "language": "python",
   "name": "python3"
  },
  "language_info": {
   "codemirror_mode": {
    "name": "ipython",
    "version": 3
   },
   "file_extension": ".py",
   "mimetype": "text/x-python",
   "name": "python",
   "nbconvert_exporter": "python",
   "pygments_lexer": "ipython3",
   "version": "3.10.15"
  }
 },
 "nbformat": 4,
 "nbformat_minor": 2
}
